{
 "cells": [
  {
   "cell_type": "code",
   "execution_count": 13,
   "metadata": {},
   "outputs": [
    {
     "ename": "IndentationError",
     "evalue": "expected an indented block (<ipython-input-13-0dbfa7449dac>, line 9)",
     "output_type": "error",
     "traceback": [
      "\u001b[1;36m  File \u001b[1;32m\"<ipython-input-13-0dbfa7449dac>\"\u001b[1;36m, line \u001b[1;32m9\u001b[0m\n\u001b[1;33m    print(\"You are a registered Voter\")\u001b[0m\n\u001b[1;37m        ^\u001b[0m\n\u001b[1;31mIndentationError\u001b[0m\u001b[1;31m:\u001b[0m expected an indented block\n"
     ]
    }
   ],
   "source": [
    "user_cnic = (input (\"Do you have CNIC?\").lower())\n",
    "if user_cnic == 'yes':\n",
    "    print(\"He has valid CNIC\")\n",
    "    \n",
    "    voter_list = (input(\"Is your name in the LIST?\").lower())\n",
    "    \n",
    "    if voter_list == 'yes' :\n",
    "        \n",
    "    print(\"You are a registered Voter\")\n",
    "    \n",
    "    print(\"You can Caste vote\")\n",
    "    \n",
    "    else:\n",
    "    \n",
    "    print(\"You cannot caste vote!\")\n",
    "    \n",
    "else:\n",
    "    \n",
    "    print (\"You cannot caste Vote!\")"
   ]
  },
  {
   "cell_type": "code",
   "execution_count": 6,
   "metadata": {},
   "outputs": [
    {
     "name": "stdout",
     "output_type": "stream",
     "text": [
      "What Is your age 18\n"
     ]
    },
    {
     "ename": "TypeError",
     "evalue": "'>=' not supported between instances of 'str' and 'int'",
     "output_type": "error",
     "traceback": [
      "\u001b[1;31m---------------------------------------------------------------------------\u001b[0m",
      "\u001b[1;31mTypeError\u001b[0m                                 Traceback (most recent call last)",
      "\u001b[1;32m<ipython-input-6-6ccefd7679e4>\u001b[0m in \u001b[0;36m<module>\u001b[1;34m\u001b[0m\n\u001b[0;32m      1\u001b[0m \u001b[0mcust_age\u001b[0m \u001b[1;33m=\u001b[0m \u001b[1;33m(\u001b[0m\u001b[0minput\u001b[0m\u001b[1;33m(\u001b[0m\u001b[1;34m\"What Is your age \"\u001b[0m\u001b[1;33m)\u001b[0m\u001b[1;33m.\u001b[0m\u001b[0mlower\u001b[0m\u001b[1;33m(\u001b[0m\u001b[1;33m)\u001b[0m\u001b[1;33m)\u001b[0m\u001b[1;33m\u001b[0m\u001b[1;33m\u001b[0m\u001b[0m\n\u001b[1;32m----> 2\u001b[1;33m \u001b[1;32mif\u001b[0m \u001b[0mcust_age\u001b[0m \u001b[1;33m>=\u001b[0m \u001b[1;36m18\u001b[0m \u001b[1;33m:\u001b[0m\u001b[1;33m\u001b[0m\u001b[1;33m\u001b[0m\u001b[0m\n\u001b[0m\u001b[0;32m      3\u001b[0m \u001b[1;33m\u001b[0m\u001b[0m\n\u001b[0;32m      4\u001b[0m     \u001b[0mprint\u001b[0m \u001b[1;33m(\u001b[0m\u001b[1;34m\"You are allowed to watch movie\"\u001b[0m\u001b[1;33m)\u001b[0m\u001b[1;33m\u001b[0m\u001b[1;33m\u001b[0m\u001b[0m\n\u001b[0;32m      5\u001b[0m \u001b[1;33m\u001b[0m\u001b[0m\n",
      "\u001b[1;31mTypeError\u001b[0m: '>=' not supported between instances of 'str' and 'int'"
     ]
    }
   ],
   "source": [
    "cust_age = int(input(\"What Is your age \").lower())\n",
    "if cust_age >= 18 :\n",
    "    \n",
    "    print (\"You are allowed to watch movie\")\n",
    "    \n",
    "    cust_ticket =(input(\"Do you have a ticket? \").lower())\n",
    "    \n",
    "    if cust_ticket == 'yes' :\n",
    "        \n",
    "        print(\"You are allowed to watch movie\")\n",
    "        \n",
    "    else:\n",
    "        print(\"You are not allowed to watch movie\")\n",
    "        \n",
    "else:\n",
    "        print(\"You are not allowed to watch movie\")"
   ]
  },
  {
   "cell_type": "code",
   "execution_count": 4,
   "metadata": {},
   "outputs": [
    {
     "name": "stdout",
     "output_type": "stream",
     "text": [
      "Enter first number20\n",
      "Enter Second number20\n",
      "20 is equal to 20\n"
     ]
    }
   ],
   "source": [
    "num1 = int(input(\"Enter first number\"))\n",
    "num2 = int(input(\"Enter Second number\"))\n",
    "\n",
    "if num1>num2:\n",
    "    \n",
    "    print(f\"{num1} is greater than {num2}\")\n",
    "    \n",
    "elif  num1==num2:\n",
    "   \n",
    "        \n",
    "        print(f\"{num1} is equal to {num2}\")\n",
    "        \n",
    "elif num1<num2:\n",
    "    \n",
    "        \n",
    "    print(f\"{num1} is less than {num2}\")\n",
    "    \n",
    "else:\n",
    "    \n",
    "    print(\"Invalid Input\")"
   ]
  },
  {
   "cell_type": "markdown",
   "metadata": {},
   "source": [
    "# "
   ]
  },
  {
   "cell_type": "code",
   "execution_count": 12,
   "metadata": {},
   "outputs": [
    {
     "ename": "SyntaxError",
     "evalue": "EOL while scanning string literal (<ipython-input-12-0563bd5f1467>, line 3)",
     "output_type": "error",
     "traceback": [
      "\u001b[1;36m  File \u001b[1;32m\"<ipython-input-12-0563bd5f1467>\"\u001b[1;36m, line \u001b[1;32m3\u001b[0m\n\u001b[1;33m    HelloWORLD'\u001b[0m\n\u001b[1;37m               ^\u001b[0m\n\u001b[1;31mSyntaxError\u001b[0m\u001b[1;31m:\u001b[0m EOL while scanning string literal\n"
     ]
    }
   ],
   "source": [
    "#this is AI class  #SINGLE LINE COMMENT\n",
    "'''HelloWORLD'''  #\n",
    "HelloWORLD\n",
    "HelloWORLD\n",
    "HelloWORLD\n",
    "HelloWORLD\n",
    "HelloWORLD\n",
    "\n",
    "\n"
   ]
  },
  {
   "cell_type": "code",
   "execution_count": null,
   "metadata": {},
   "outputs": [],
   "source": []
  }
 ],
 "metadata": {
  "kernelspec": {
   "display_name": "Python 3",
   "language": "python",
   "name": "python3"
  },
  "language_info": {
   "codemirror_mode": {
    "name": "ipython",
    "version": 3
   },
   "file_extension": ".py",
   "mimetype": "text/x-python",
   "name": "python",
   "nbconvert_exporter": "python",
   "pygments_lexer": "ipython3",
   "version": "3.7.3"
  }
 },
 "nbformat": 4,
 "nbformat_minor": 2
}
